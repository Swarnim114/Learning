{
 "cells": [
  {
   "cell_type": "markdown",
   "metadata": {},
   "source": [
    "# What is probability \n",
    "Probability is the measure of the likelyhood of an event\n",
    "For example : rolling a dice \n",
    "sample space = {1 , 2 , 3 , 4 , 5 , 6}\n",
    "pr(6) = 1/6 \n"
   ]
  }
 ],
 "metadata": {
  "language_info": {
   "name": "python"
  }
 },
 "nbformat": 4,
 "nbformat_minor": 2
}
